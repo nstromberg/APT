{
 "cells": [
  {
   "cell_type": "code",
   "execution_count": null,
   "metadata": {},
   "outputs": [],
   "source": [
    "import os\n",
    "import time\n",
    "\n",
    "import torch\n",
    "\n",
    "from apt.model import APTPredictor\n",
    "from apt.utils import process_data"
   ]
  },
  {
   "cell_type": "code",
   "execution_count": null,
   "metadata": {},
   "outputs": [],
   "source": [
    "device = \"cuda:0\"\n",
    "checkpoint = \"artifacts/saves/train-epoch-200-apt-regression/model_epoch=200.pt\""
   ]
  },
  {
   "cell_type": "code",
   "execution_count": null,
   "metadata": {},
   "outputs": [
    {
     "data": {
      "text/plain": [
       "APT(\n",
       "  (_emb_x): FeedForward(\n",
       "    (_emb): Linear(in_features=300, out_features=512, bias=True)\n",
       "    (_net): Sequential(\n",
       "      (0): GELU(approximate='none')\n",
       "      (1): Linear(in_features=512, out_features=512, bias=True)\n",
       "    )\n",
       "  )\n",
       "  (_emb_y): FeedForward(\n",
       "    (_emb): Linear(in_features=1, out_features=512, bias=True)\n",
       "    (_net): Sequential(\n",
       "      (0): GELU(approximate='none')\n",
       "      (1): Linear(in_features=512, out_features=512, bias=True)\n",
       "    )\n",
       "  )\n",
       "  (_transformer): ModuleList(\n",
       "    (0-11): 12 x TransformerBlock(\n",
       "      (_attn): FullAttention(\n",
       "        (to_qkv): Linear(in_features=512, out_features=1536, bias=False)\n",
       "      )\n",
       "      (_ln_attn): LayerNorm((512,), eps=1e-05, elementwise_affine=True)\n",
       "      (_ff): FeedForward(\n",
       "        (_emb): Linear(in_features=512, out_features=1024, bias=True)\n",
       "        (_net): Sequential(\n",
       "          (0): GELU(approximate='none')\n",
       "          (1): Linear(in_features=1024, out_features=512, bias=True)\n",
       "        )\n",
       "      )\n",
       "      (_ln_ff): LayerNorm((512,), eps=1e-05, elementwise_affine=True)\n",
       "    )\n",
       "  )\n",
       "  (_out): FeedForward(\n",
       "    (_emb): Linear(in_features=512, out_features=512, bias=True)\n",
       "    (_net): Sequential(\n",
       "      (0): GELU(approximate='none')\n",
       "      (1): Linear(in_features=512, out_features=2, bias=True)\n",
       "    )\n",
       "  )\n",
       ")"
      ]
     },
     "execution_count": 3,
     "metadata": {},
     "output_type": "execute_result"
    }
   ],
   "source": [
    "state_dict, init_args = torch.load(checkpoint, map_location='cpu')\n",
    "model = APTPredictor(**init_args)\n",
    "model.load_state_dict(state_dict)\n",
    "model.to(device)\n",
    "model.eval()"
   ]
  },
  {
   "cell_type": "code",
   "execution_count": null,
   "metadata": {},
   "outputs": [],
   "source": [
    "save_dir = \"results/\"\n",
    "for split in range(1, 6):\n",
    "    data_dir = f\"datasets/regression/OpenML-CTR23-{split}\"\n",
    "    datasets = os.listdir(data_dir)\n",
    "    datasets = [dataset for dataset in datasets if \".pt\" in dataset]\n",
    "\n",
    "    with open(os.path.join(save_dir, f\"apt-regression-{split}.csv\"), \"a\") as f:\n",
    "        f.write(','.join([\"dataset\", \"mse\", \"mae\", \"r2\", \"time\"]))\n",
    "        f.write('\\n')\n",
    "        f.flush()\n",
    "        for dataset in datasets:\n",
    "            data = torch.load(os.path.join(data_dir, dataset), map_location='cpu')\n",
    "            x_train, y_train, x_test, y_test = process_data(data[\"data\"], classification=False)\n",
    "\n",
    "            start_time = time.time()\n",
    "            model.fit(x_train, y_train, process_data=False) # model.fit(x_train, y_train)\n",
    "            metrics = model.evaluate(x_test, y_test)\n",
    "            end_time = time.time()\n",
    "            f.write(','.join([dataset] + [f'{val:5.4f}' for val in [metrics[\"Test MSE\"], metrics[\"Test MAE\"], metrics[\"Test R2\"], end_time-start_time]]))\n",
    "            f.write('\\n')\n",
    "            f.flush()"
   ]
  },
  {
   "cell_type": "code",
   "execution_count": null,
   "metadata": {},
   "outputs": [],
   "source": []
  }
 ],
 "metadata": {
  "kernelspec": {
   "display_name": "pfn_env",
   "language": "python",
   "name": "python3"
  },
  "language_info": {
   "codemirror_mode": {
    "name": "ipython",
    "version": 3
   },
   "file_extension": ".py",
   "mimetype": "text/x-python",
   "name": "python",
   "nbconvert_exporter": "python",
   "pygments_lexer": "ipython3",
   "version": "3.10.14"
  },
  "orig_nbformat": 4
 },
 "nbformat": 4,
 "nbformat_minor": 2
}
