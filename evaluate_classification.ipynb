{
 "cells": [
  {
   "cell_type": "code",
   "execution_count": null,
   "metadata": {},
   "outputs": [],
   "source": [
    "import os\n",
    "import time\n",
    "\n",
    "import torch\n",
    "\n",
    "from apt.model import APTClassifier\n",
    "from apt.utils import process_data"
   ]
  },
  {
   "cell_type": "code",
   "execution_count": null,
   "metadata": {},
   "outputs": [],
   "source": [
    "model = APTClassifier(device=\"cuda:0\")"
   ]
  },
  {
   "cell_type": "code",
   "execution_count": null,
   "metadata": {},
   "outputs": [],
   "source": [
    "save_dir = \"results/\"\n",
    "for split in range(1, 6):\n",
    "    data_dir = f\"datasets/classification/OpenML-CC18-{split}\"\n",
    "    datasets = os.listdir(data_dir)\n",
    "    datasets = [dataset for dataset in datasets if \".pt\" in dataset]\n",
    "\n",
    "    with open(os.path.join(save_dir, f\"apt-classification-{split}.csv\"), \"a\") as f:\n",
    "        f.write(','.join([\"dataset\", \"acc\", \"bacc\", \"ce\", \"auc\", \"time\"]))\n",
    "        f.write('\\n')\n",
    "        f.flush()\n",
    "        for dataset in datasets:\n",
    "            data = torch.load(os.path.join(data_dir, dataset), map_location='cpu')\n",
    "            x_train, y_train, x_test, y_test = process_data(data[\"data\"], classification=True)\n",
    "\n",
    "            start_time = time.time()\n",
    "            model.fit(x_train, y_train, process_data=False) # model.fit(x_train, y_train)\n",
    "            metrics = model.evaluate(x_test, y_test)\n",
    "            end_time = time.time()\n",
    "            f.write(','.join([dataset] + [f'{val:5.4f}' for val in [metrics[\"Test ACC\"], metrics[\"Test BACC\"], metrics[\"Test CE\"], metrics[\"Test AUC\"], end_time-start_time]]))\n",
    "            f.write('\\n')\n",
    "            f.flush()"
   ]
  },
  {
   "cell_type": "code",
   "execution_count": null,
   "metadata": {},
   "outputs": [],
   "source": []
  }
 ],
 "metadata": {
  "kernelspec": {
   "display_name": "pfn_env",
   "language": "python",
   "name": "python3"
  },
  "language_info": {
   "codemirror_mode": {
    "name": "ipython",
    "version": 3
   },
   "file_extension": ".py",
   "mimetype": "text/x-python",
   "name": "python",
   "nbconvert_exporter": "python",
   "pygments_lexer": "ipython3",
   "version": "3.10.14"
  },
  "orig_nbformat": 4
 },
 "nbformat": 4,
 "nbformat_minor": 2
}
